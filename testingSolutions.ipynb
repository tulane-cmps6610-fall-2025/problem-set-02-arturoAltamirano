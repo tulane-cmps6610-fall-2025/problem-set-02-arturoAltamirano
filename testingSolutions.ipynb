{
 "cells": [
  {
   "cell_type": "code",
   "execution_count": 223,
   "id": "88bf7b3c",
   "metadata": {},
   "outputs": [],
   "source": [
    "import time\n",
    "from tabulate import tabulate\n",
    "import random \n",
    "import matplotlib.pyplot as plt"
   ]
  },
  {
   "cell_type": "code",
   "execution_count": 224,
   "id": "e163865f",
   "metadata": {},
   "outputs": [],
   "source": [
    "class BinaryNumber:\n",
    "    \"\"\" done \"\"\"\n",
    "    def __init__(self, n):\n",
    "        self.decimal_val = n\n",
    "        #binary representation of the input number                \n",
    "        self.binary_vec = list('{0:b}'.format(n)) \n",
    "        \n",
    "    def __repr__(self):\n",
    "        return('decimal=%d binary=%s' % (self.decimal_val, ''.join(self.binary_vec)))\n",
    "\n",
    "# some useful utility functions to manipulate bit vectors\n",
    "def binary2int(binary_vec): \n",
    "    '''list of bits back to an integer'''\n",
    "    if len(binary_vec) == 0:\n",
    "        return BinaryNumber(0)\n",
    "    \n",
    "    return BinaryNumber(int(''.join(binary_vec), 2))\n",
    "\n",
    "def split_number(vec):\n",
    "    '''splitter that will chop our array in half'''\n",
    "    return (binary2int(vec[:len(vec)//2]),\n",
    "            binary2int(vec[len(vec)//2:]))\n",
    "\n",
    "def bit_shift(number, n):\n",
    "    '''shifts an input left by n bits - essentially appends n 0 bits to the end of the bit array\n",
    "       this makes the value much larger - essentially squaring it'''\n",
    "    return binary2int(number.binary_vec + ['0'] * n)\n",
    "    \n",
    "def pad(x,y):\n",
    "\n",
    "    # pad with leading 0 if x/y have different number of bits\n",
    "    #leading 0s have no effect on the value, and enable no interference length manipulation\n",
    "    if len(x) < len(y):\n",
    "        x = ['0'] * (len(y)-len(x)) + x\n",
    "\n",
    "\n",
    "    elif len(y) < len(x):\n",
    "        y = ['0'] * (len(x)-len(y)) + y\n",
    "\n",
    "    # pad with leading 0 if not even number of bits\n",
    "    #you want it to be even so the split is equivalent on both sides \n",
    "    #this is neccesary for the operation to work\n",
    "    if len(x) % 2 != 0:\n",
    "        x = ['0'] + x\n",
    "        y = ['0'] + y\n",
    "\n",
    "    return x,y"
   ]
  },
  {
   "cell_type": "markdown",
   "id": "f89a71b3",
   "metadata": {},
   "source": [
    "#### samples that use the provided functionality and display the binary"
   ]
  },
  {
   "cell_type": "code",
   "execution_count": 225,
   "id": "5189d76f",
   "metadata": {},
   "outputs": [
    {
     "name": "stdout",
     "output_type": "stream",
     "text": [
      "decimal=4 binary=100\n",
      "decimal=21 binary=10101\n"
     ]
    }
   ],
   "source": [
    "def quadratic_multiply(x, y):\n",
    "    #base case: one of them is a single bit - return to break recursion \n",
    "    if len(x.binary_vec) == 1 or len(y.binary_vec) == 1:\n",
    "        return list(bin(x.decimal_val * y.decimal_val)[2:])\n",
    "    \n",
    "    #we need to continue recursion\n",
    "    else:\n",
    "        #we need to continue recursion, pad to get an even length before we split them\n",
    "        x_array, y_array = pad(x.binary_vec, y.binary_vec)\n",
    "\n",
    "        #split these into 4-quadrants and multiply all combinations \n",
    "        #this is where the quadratic runtime comes from - have to do 4 per iteration\n",
    "        x_left, x_right = split_number(x_array)\n",
    "        y_left, y_right = split_number(y_array)\n",
    "    \n",
    "        #left half of x and y\n",
    "        product1 = binary2int(quadratic_multiply(x_left, y_left))\n",
    "    \n",
    "        #right half of x and y\n",
    "        product2 = binary2int(quadratic_multiply(x_right, y_right))\n",
    "    \n",
    "        #left half of x and right half of y\n",
    "        product3 = binary2int(quadratic_multiply(x_left, y_right))\n",
    "    \n",
    "        #right half of x and left half of y\n",
    "        product4 = binary2int(quadratic_multiply(x_right, y_left))\n",
    "\n",
    "        n = len(x_array)\n",
    "\n",
    "        #(xL ​yL​) ⋅ 2n + (xL ​yR ​+ xR ​yL​) ⋅ 2n/2 + (xR ​yR​)\n",
    "        result = (\n",
    "        bit_shift(product1, n).decimal_val + product2.decimal_val +\n",
    "        bit_shift(BinaryNumber(product3.decimal_val + product4.decimal_val), n // 2).decimal_val\n",
    "        )\n",
    "        \n",
    "    return list(bin(result)[2:])\n",
    "\n",
    "print(binary2int(quadratic_multiply(BinaryNumber(2), BinaryNumber(2))))\n",
    "print(binary2int(quadratic_multiply(BinaryNumber(3), BinaryNumber(7))))"
   ]
  },
  {
   "cell_type": "code",
   "execution_count": 226,
   "id": "7f2e294d",
   "metadata": {},
   "outputs": [
    {
     "name": "stdout",
     "output_type": "stream",
     "text": [
      "decimal=4 binary=100\n",
      "decimal=21 binary=10101\n"
     ]
    }
   ],
   "source": [
    "def subquadratic_multiply(x, y):\n",
    "    #base case: one of them is a single bit - return to break recursion \n",
    "    if len(x.binary_vec) == 1 or len(y.binary_vec) == 1:\n",
    "        return list(bin(x.decimal_val * y.decimal_val)[2:])\n",
    "    \n",
    "    #we need to continue recursion\n",
    "    else:\n",
    "        #pad to get an even length before we split them again\n",
    "        x_array, y_array = pad(x.binary_vec, y.binary_vec)\n",
    "\n",
    "        #split these into 4-quadrants and multiply all combinations \n",
    "        #this is where the quadratic runtime comes from - have to do 4 per iteration\n",
    "        x_left, x_right = split_number(x_array)\n",
    "        y_left, y_right = split_number(y_array)\n",
    "    \n",
    "        #left half of x and y\n",
    "        product1 = binary2int(subquadratic_multiply(x_left, y_left))\n",
    "    \n",
    "        #right half of x and y\n",
    "        product2 = binary2int(subquadratic_multiply(x_right, y_right))\n",
    "\n",
    "        #Karatsuba's trick of instead adding these together\n",
    "        #this makes 3 operations instead of 4, hence subquadratic\n",
    "        product3 = binary2int(subquadratic_multiply(\n",
    "        BinaryNumber(x_left.decimal_val + x_right.decimal_val),\n",
    "        BinaryNumber(y_left.decimal_val + y_right.decimal_val)\n",
    "        ))\n",
    "\n",
    "        n = len(x_array)\n",
    "\n",
    "        #p1 * 2^n + (p3 - p1 - p2) * 2^(n/2) + p2\n",
    "        result = (bit_shift(product1, n).decimal_val + product2.decimal_val +\n",
    "        bit_shift( BinaryNumber(product3.decimal_val - product1.decimal_val - product2.decimal_val), n // 2).decimal_val\n",
    "        )\n",
    "        \n",
    "    return list(bin(result)[2:])\n",
    "\n",
    "print(binary2int(subquadratic_multiply(BinaryNumber(2), BinaryNumber(2))))\n",
    "print(binary2int(subquadratic_multiply(BinaryNumber(3), BinaryNumber(7))))"
   ]
  },
  {
   "cell_type": "markdown",
   "id": "ad5c089a",
   "metadata": {},
   "source": [
    "#### examples to go into the python file with assertions - had to make some changes, hope you don't mind"
   ]
  },
  {
   "cell_type": "code",
   "execution_count": 227,
   "id": "4d275dce",
   "metadata": {},
   "outputs": [
    {
     "name": "stdout",
     "output_type": "stream",
     "text": [
      "4\n"
     ]
    }
   ],
   "source": [
    "def quadratic_multiply(x, y):\n",
    "    #base case: one of them is a single bit - return to break recursion \n",
    "    if len(x.binary_vec) == 1 or len(y.binary_vec) == 1:\n",
    "        return x.decimal_val * y.decimal_val\n",
    "    \n",
    "    #we need to continue recursion\n",
    "    else:\n",
    "\n",
    "        #we need to continue recursion, pad to get an even length before we split them\n",
    "        x_array, y_array = pad(x.binary_vec, y.binary_vec)\n",
    "\n",
    "        #split these into 4-quadrants and multiply all combinations \n",
    "        #this is where the quadratic runtime comes from - have to do 4 per iteration\n",
    "        x_left, x_right = split_number(x_array)\n",
    "        y_left, y_right = split_number(y_array)\n",
    "\n",
    "        n = len(x_array)\n",
    "    \n",
    "        #left half of x and y\n",
    "        product1 = quadratic_multiply(x_left, y_left)\n",
    "        p1 = bit_shift(BinaryNumber(product1), n) \n",
    "    \n",
    "        #right half of x and y\n",
    "        product2 = quadratic_multiply(x_right, y_right)\n",
    "        p2 = BinaryNumber(product2)   \n",
    "    \n",
    "        #left half of x and right half of y\n",
    "        product3 = quadratic_multiply(x_left, y_right)\n",
    "        \n",
    "        #right half of x and left half of y\n",
    "        product4 = quadratic_multiply(x_right, y_left)\n",
    "\n",
    "        cross = BinaryNumber(product3 + product4)\n",
    "        p3 = bit_shift(cross, n // 2)\n",
    "\n",
    "        #(xL ​yL​) ⋅ 2n + (xL ​yR ​+ xR ​yL​) ⋅ 2n/2 + (xR ​yR​)\n",
    "        return p1.decimal_val + p2.decimal_val + p3.decimal_val\n",
    "    \n",
    "print(quadratic_multiply(BinaryNumber(2), BinaryNumber(2)))"
   ]
  },
  {
   "cell_type": "code",
   "execution_count": 228,
   "id": "f595e323",
   "metadata": {},
   "outputs": [],
   "source": [
    "def subquadratic_multiply(x, y):\n",
    "    #base case: one of them is a single bit - return to break recursion \n",
    "    if len(x.binary_vec) == 1 or len(y.binary_vec) == 1:\n",
    "        return x.decimal_val * y.decimal_val\n",
    "    \n",
    "    #we need to continue recursion\n",
    "    else:\n",
    "        #pad to get an even length before we split them again\n",
    "        x_array, y_array = pad(x.binary_vec, y.binary_vec)\n",
    "\n",
    "        #split these into 4-quadrants and multiply all combinations \n",
    "        #this is where the quadratic runtime comes from - have to do 4 per iteration\n",
    "        x_left, x_right = split_number(x_array)\n",
    "        y_left, y_right = split_number(y_array)\n",
    "\n",
    "        n = len(x_array)\n",
    "    \n",
    "        #left half of x and y\n",
    "        product1 = subquadratic_multiply(x_left, y_left)\n",
    "        p1 = bit_shift(BinaryNumber(product1), n) \n",
    "    \n",
    "        #right half of x and y\n",
    "        product2 = subquadratic_multiply(x_right, y_right)\n",
    "        p2 = BinaryNumber(product2)  \n",
    "\n",
    "        #Karatsuba's trick of instead adding these together\n",
    "        #this makes 3 operations instead of 4, hence subquadratic\n",
    "        product3 = subquadratic_multiply(\n",
    "        BinaryNumber(x_left.decimal_val + x_right.decimal_val),\n",
    "        BinaryNumber(y_left.decimal_val + y_right.decimal_val)\n",
    "        )\n",
    "\n",
    "        cross = product3 - product1 - product2\n",
    "        p3 = bit_shift(BinaryNumber(cross), n // 2) \n",
    "\n",
    "    return p1.decimal_val + p2.decimal_val + p3.decimal_val"
   ]
  },
  {
   "cell_type": "code",
   "execution_count": 229,
   "id": "20bcb694",
   "metadata": {},
   "outputs": [],
   "source": [
    "# some timing functions here that will make comparisons easy    \n",
    "def time_multiply(x, y, f):\n",
    "    start = time.time()\n",
    "    # multiply two numbers x, y using function f\n",
    "    f(x,y)\n",
    "    return (time.time() - start)*1000\n",
    "\n",
    "def compare_multiply():\n",
    "    res = []\n",
    "    qtimes = []\n",
    "    subqtimes = []\n",
    "    sizes = [10,100,1000,10000,100000,1000000,10000000,100000000,1000000000]\n",
    "    for n in [10,100,1000,10000,100000,1000000,10000000,100000000,1000000000]:\n",
    "        qtime = time_multiply(BinaryNumber(n), BinaryNumber(n), quadratic_multiply)\n",
    "        qtimes.append(qtime)\n",
    "\n",
    "        subqtime = time_multiply(BinaryNumber(n), BinaryNumber(n), subquadratic_multiply) \n",
    "        subqtimes.append(subqtime)\n",
    "\n",
    "        res.append((n, qtime, subqtime))\n",
    "\n",
    "    avg_qtime = sum(qtimes)\n",
    "    avg_subqtime = sum(subqtimes)\n",
    "\n",
    "    fig, ax = plt.subplots()\n",
    "    ax.plot(sizes, qtimes, label=\"qtimes\")\n",
    "    ax.plot(sizes, subqtimes, label=\"subqtimes\")\n",
    "\n",
    "    ax.legend()\n",
    "    ax.grid(True)\n",
    "    ax.set_yscale(\"log\")\n",
    "\n",
    "    if avg_subqtime < avg_qtime:\n",
    "        print(f\"sub q times are on average : {round(avg_subqtime / avg_qtime) * 100}% faster\")\n",
    "    \n",
    "    else:\n",
    "        print(f\"q times are on average : {round(avg_qtime / avg_subqtime) * 100}% faster\")\n",
    "\n",
    "    print_results(res)\n",
    "\n",
    "def print_results(results):\n",
    "    print(\"\\n\")\n",
    "    print(\n",
    "        tabulate(\n",
    "            results,\n",
    "            headers=['n', 'quadratic', 'subquadratic'],\n",
    "            floatfmt=\".3f\",\n",
    "            tablefmt=\"github\"))"
   ]
  },
  {
   "cell_type": "code",
   "execution_count": 230,
   "id": "2b9e474c",
   "metadata": {},
   "outputs": [
    {
     "name": "stdout",
     "output_type": "stream",
     "text": [
      "quadratic_multiply(1000000, 1000000) took 0.968 ms\n",
      "subquadratic_multiply(1000000, 1000000) took 1.124 ms\n"
     ]
    }
   ],
   "source": [
    "n = 1000000\n",
    "runtime = time_multiply(BinaryNumber(n), BinaryNumber(n), quadratic_multiply)\n",
    "print(f\"quadratic_multiply({n}, {n}) took {runtime:.3f} ms\")\n",
    "\n",
    "n = 1000000\n",
    "runtime = time_multiply(BinaryNumber(n), BinaryNumber(n), subquadratic_multiply)\n",
    "print(f\"subquadratic_multiply({n}, {n}) took {runtime:.3f} ms\")"
   ]
  },
  {
   "cell_type": "code",
   "execution_count": 231,
   "id": "fd515054",
   "metadata": {},
   "outputs": [
    {
     "name": "stdout",
     "output_type": "stream",
     "text": [
      "q times are on average : 100% faster\n",
      "\n",
      "\n",
      "|          n |   quadratic |   subquadratic |\n",
      "|------------|-------------|----------------|\n",
      "|         10 |       0.108 |          0.085 |\n",
      "|        100 |       0.119 |          0.212 |\n",
      "|       1000 |       0.259 |          0.593 |\n",
      "|      10000 |       0.565 |          0.818 |\n",
      "|     100000 |       0.542 |          1.447 |\n",
      "|    1000000 |       1.635 |          2.150 |\n",
      "|   10000000 |       2.386 |          1.431 |\n",
      "|  100000000 |       1.273 |          1.969 |\n",
      "| 1000000000 |       2.755 |          2.657 |\n"
     ]
    },
    {
     "data": {
      "image/png": "[encoded data removed]",
      "text/plain": [
       "<Figure size 640x480 with 1 Axes>"
      ]
     },
     "metadata": {},
     "output_type": "display_data"
    }
   ],
   "source": [
    "compare_multiply()"
   ]
  },
  {
   "cell_type": "markdown",
   "id": "d474a37c",
   "metadata": {},
   "source": [
    "#### Did a little google because this result confused me, can try using bit length instead of pure int size \n",
    "\n",
    "#### This will help us nullify the implementation overhead so as to show the true performance at scale "
   ]
  },
  {
   "cell_type": "code",
   "execution_count": 232,
   "id": "a9f0ab8c",
   "metadata": {},
   "outputs": [
    {
     "name": "stdout",
     "output_type": "stream",
     "text": [
      "sub q times are on average : 14% faster\n",
      "\n",
      "\n",
      "|    n |   quadratic |   subquadratic |\n",
      "|------|-------------|----------------|\n",
      "|    8 |       0.057 |          0.367 |\n",
      "|   16 |       1.013 |          0.622 |\n",
      "|   32 |       3.011 |          2.774 |\n",
      "|   64 |       9.248 |          7.492 |\n",
      "|  128 |      40.018 |         29.837 |\n",
      "|  256 |     154.630 |         62.551 |\n",
      "|  512 |     677.955 |        258.939 |\n",
      "| 1024 |    2964.103 |        608.384 |\n",
      "| 2048 |   10478.431 |       1681.097 |\n",
      "| 4096 |   40816.189 |       5024.378 |\n"
     ]
    },
    {
     "data": {
      "image/png": "[encoded data removed]",
      "text/plain": [
       "<Figure size 640x480 with 1 Axes>"
      ]
     },
     "metadata": {},
     "output_type": "display_data"
    }
   ],
   "source": [
    "def compare_multiply():\n",
    "    results = []\n",
    "    qtimes = []\n",
    "    subqtimes = []\n",
    "\n",
    "    #bit_sizes = [8, 16, 32, 64, 128, 256, 512, 1024, 2048, 4096, 8192, 16384, 32768, 65536, 131072]\n",
    "    bit_sizes = [8, 16, 32, 64, 128, 256, 512, 1024, 2048, 4096]\n",
    "\n",
    "    #test based on bit length with random numbers\n",
    "    for bits in bit_sizes:\n",
    "        #generate random numbers based on bit length\n",
    "        #https://docs.python.org/3/library/random.html#:~:text=random.getrandbits,arbitrarily%20large%20ranges.\n",
    "        #i think there is something about the implementation that is not correct...\n",
    "        qtime = time_multiply(BinaryNumber(random.getrandbits(bits)), BinaryNumber(random.getrandbits(bits)), quadratic_multiply)\n",
    "        subqtime = time_multiply(BinaryNumber(random.getrandbits(bits)), BinaryNumber(random.getrandbits(bits)), subquadratic_multiply)\n",
    "\n",
    "        qtimes.append(qtime)\n",
    "        subqtimes.append(subqtime)\n",
    "        results.append((bits, qtime, subqtime))\n",
    "\n",
    "    avg_qtime = sum(qtimes)\n",
    "    avg_subqtime = sum(subqtimes)\n",
    "\n",
    "    if avg_subqtime < avg_qtime:\n",
    "        print(f\"sub q times are on average : {round((avg_subqtime / avg_qtime) * 100)}% faster\")\n",
    "    \n",
    "    else:\n",
    "        print(f\"q times are on average : {round((avg_qtime / avg_subqtime) * 100)}% faster\")\n",
    "\n",
    "    print_results(results)\n",
    "\n",
    "    fig, ax = plt.subplots()\n",
    "    ax.plot(bit_sizes, qtimes, label=\"qtimes\")\n",
    "    ax.plot(bit_sizes, subqtimes, label=\"subqtimes\")\n",
    "\n",
    "    ax.legend()\n",
    "    ax.grid(True)\n",
    "    ax.set_yscale(\"log\")\n",
    "\n",
    "compare_multiply()"
   ]
  }
 ],
 "metadata": {
  "kernelspec": {
   "display_name": "Python 3",
   "language": "python",
   "name": "python3"
  },
  "language_info": {
   "codemirror_mode": {
    "name": "ipython",
    "version": 3
   },
   "file_extension": ".py",
   "mimetype": "text/x-python",
   "name": "python",
   "nbconvert_exporter": "python",
   "pygments_lexer": "ipython3",
   "version": "3.9.6"
  }
 },
 "nbformat": 4,
 "nbformat_minor": 5
}
