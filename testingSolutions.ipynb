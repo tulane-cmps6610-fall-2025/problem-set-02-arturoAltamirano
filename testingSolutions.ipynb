{
 "cells": [
  {
   "cell_type": "code",
   "execution_count": 5,
   "id": "88bf7b3c",
   "metadata": {},
   "outputs": [],
   "source": [
    "import time\n",
    "from tabulate import tabulate\n",
    "\n",
    "class BinaryNumber:\n",
    "    \"\"\" done \"\"\"\n",
    "    def __init__(self, n):\n",
    "        self.decimal_val = n               \n",
    "        self.binary_vec = list('{0:b}'.format(n)) \n",
    "        \n",
    "    def __repr__(self):\n",
    "        return('decimal=%d binary=%s' % (self.decimal_val, ''.join(self.binary_vec)))"
   ]
  },
  {
   "cell_type": "code",
   "execution_count": 6,
   "id": "e163865f",
   "metadata": {},
   "outputs": [],
   "source": [
    "\n",
    "# some useful utility functions to manipulate bit vectors\n",
    "def binary2int(binary_vec): \n",
    "    if len(binary_vec) == 0:\n",
    "        return BinaryNumber(0)\n",
    "    return BinaryNumber(int(''.join(binary_vec), 2))\n",
    "\n",
    "def split_number(vec):\n",
    "    return (binary2int(vec[:len(vec)//2]),\n",
    "            binary2int(vec[len(vec)//2:]))\n",
    "\n",
    "def bit_shift(number, n):\n",
    "    return binary2int(number.binary_vec + ['0'] * n)\n",
    "    \n",
    "def pad(x,y):\n",
    "    # pad with leading 0 if x/y have different number of bits\n",
    "    if len(x) < len(y):\n",
    "        x = ['0'] * (len(y)-len(x)) + x\n",
    "    elif len(y) < len(x):\n",
    "        y = ['0'] * (len(x)-len(y)) + y\n",
    "    # pad with leading 0 if not even number of bits\n",
    "    if len(x) % 2 != 0:\n",
    "        x = ['0'] + x\n",
    "        y = ['0'] + y\n",
    "    return x,y"
   ]
  },
  {
   "cell_type": "code",
   "execution_count": null,
   "id": "5189d76f",
   "metadata": {},
   "outputs": [
    {
     "ename": "TypeError",
     "evalue": "sequence item 0: expected str instance, BinaryNumber found",
     "output_type": "error",
     "traceback": [
      "\u001b[0;31m---------------------------------------------------------------------------\u001b[0m",
      "\u001b[0;31mTypeError\u001b[0m                                 Traceback (most recent call last)",
      "Cell \u001b[0;32mIn[7], line 15\u001b[0m\n\u001b[1;32m     12\u001b[0m \u001b[38;5;28;01mdef\u001b[39;00m \u001b[38;5;21mtest_multiply\u001b[39m():\n\u001b[1;32m     13\u001b[0m     \u001b[38;5;28;01massert\u001b[39;00m binary2int(quadratic_multiply(BinaryNumber(\u001b[38;5;241m2\u001b[39m), BinaryNumber(\u001b[38;5;241m2\u001b[39m))) \u001b[38;5;241m==\u001b[39m \u001b[38;5;241m2\u001b[39m\u001b[38;5;241m*\u001b[39m\u001b[38;5;241m2\u001b[39m\n\u001b[0;32m---> 15\u001b[0m \u001b[43mtest_multiply\u001b[49m\u001b[43m(\u001b[49m\u001b[43m)\u001b[49m\n",
      "Cell \u001b[0;32mIn[7], line 13\u001b[0m, in \u001b[0;36mtest_multiply\u001b[0;34m()\u001b[0m\n\u001b[1;32m     12\u001b[0m \u001b[38;5;28;01mdef\u001b[39;00m \u001b[38;5;21mtest_multiply\u001b[39m():\n\u001b[0;32m---> 13\u001b[0m     \u001b[38;5;28;01massert\u001b[39;00m \u001b[43mbinary2int\u001b[49m\u001b[43m(\u001b[49m\u001b[43mquadratic_multiply\u001b[49m\u001b[43m(\u001b[49m\u001b[43mBinaryNumber\u001b[49m\u001b[43m(\u001b[49m\u001b[38;5;241;43m2\u001b[39;49m\u001b[43m)\u001b[49m\u001b[43m,\u001b[49m\u001b[43m \u001b[49m\u001b[43mBinaryNumber\u001b[49m\u001b[43m(\u001b[49m\u001b[38;5;241;43m2\u001b[39;49m\u001b[43m)\u001b[49m\u001b[43m)\u001b[49m\u001b[43m)\u001b[49m \u001b[38;5;241m==\u001b[39m \u001b[38;5;241m2\u001b[39m\u001b[38;5;241m*\u001b[39m\u001b[38;5;241m2\u001b[39m\n",
      "Cell \u001b[0;32mIn[6], line 5\u001b[0m, in \u001b[0;36mbinary2int\u001b[0;34m(binary_vec)\u001b[0m\n\u001b[1;32m      3\u001b[0m \u001b[38;5;28;01mif\u001b[39;00m \u001b[38;5;28mlen\u001b[39m(binary_vec) \u001b[38;5;241m==\u001b[39m \u001b[38;5;241m0\u001b[39m:\n\u001b[1;32m      4\u001b[0m     \u001b[38;5;28;01mreturn\u001b[39;00m BinaryNumber(\u001b[38;5;241m0\u001b[39m)\n\u001b[0;32m----> 5\u001b[0m \u001b[38;5;28;01mreturn\u001b[39;00m BinaryNumber(\u001b[38;5;28mint\u001b[39m(\u001b[38;5;124;43m'\u001b[39;49m\u001b[38;5;124;43m'\u001b[39;49m\u001b[38;5;241;43m.\u001b[39;49m\u001b[43mjoin\u001b[49m\u001b[43m(\u001b[49m\u001b[43mbinary_vec\u001b[49m\u001b[43m)\u001b[49m, \u001b[38;5;241m2\u001b[39m))\n",
      "\u001b[0;31mTypeError\u001b[0m: sequence item 0: expected str instance, BinaryNumber found"
     ]
    }
   ],
   "source": [
    "def quadratic_multiply(x, y):\n",
    "    ### TODO\n",
    "    pass\n",
    "    ###\n",
    "\n",
    "def subquadratic_multiply(x, y):\n",
    "    ### TODO\n",
    "    pass\n",
    "    ###\n",
    "\n",
    "## Feel free to add your own tests here.\n",
    "def test_multiply():\n",
    "    assert binary2int(quadratic_multiply(BinaryNumber(2), BinaryNumber(2))) == 2*2\n",
    "\n",
    "test_multiply()"
   ]
  },
  {
   "cell_type": "code",
   "execution_count": 8,
   "id": "20bcb694",
   "metadata": {},
   "outputs": [],
   "source": [
    "# some timing functions here that will make comparisons easy    \n",
    "def time_multiply(x, y, f):\n",
    "    start = time.time()\n",
    "    # multiply two numbers x, y using function f\n",
    "    f(x,y)\n",
    "    return (time.time() - start)*1000\n",
    "\n",
    "def compare_multiply():\n",
    "    res = []\n",
    "    for n in [10,100,1000,10000,100000,1000000,10000000,100000000,1000000000]:\n",
    "        qtime = time_multiply(BinaryNumber(n), BinaryNumber(n), quadratic_multiply)\n",
    "        subqtime = time_multiply(BinaryNumber(n), BinaryNumber(n), subquadratic_multiply)        \n",
    "        res.append((n, qtime, subqtime))\n",
    "    print_results(res)\n",
    "\n",
    "\n",
    "def print_results(results):\n",
    "    print(\"\\n\")\n",
    "    print(\n",
    "        tabulate.tabulate(\n",
    "            results,\n",
    "            headers=['n', 'quadratic', 'subquadratic'],\n",
    "            floatfmt=\".3f\",\n",
    "            tablefmt=\"github\"))"
   ]
  }
 ],
 "metadata": {
  "kernelspec": {
   "display_name": "Python 3",
   "language": "python",
   "name": "python3"
  },
  "language_info": {
   "codemirror_mode": {
    "name": "ipython",
    "version": 3
   },
   "file_extension": ".py",
   "mimetype": "text/x-python",
   "name": "python",
   "nbconvert_exporter": "python",
   "pygments_lexer": "ipython3",
   "version": "3.9.6"
  }
 },
 "nbformat": 4,
 "nbformat_minor": 5
}
